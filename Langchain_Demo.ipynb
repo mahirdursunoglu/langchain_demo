{
 "cells": [
  {
   "cell_type": "code",
   "execution_count": 1,
   "id": "f857e222-e084-4267-a276-537047c6c093",
   "metadata": {},
   "outputs": [],
   "source": [
    "#!pip install huggingface_hub\n",
    "#pip install pypdf\n",
    "#pip install langchain"
   ]
  },
  {
   "cell_type": "markdown",
   "id": "1dc56fe1-ada6-4f37-b8d9-9f3aa080fb09",
   "metadata": {},
   "source": [
    "## PDF"
   ]
  },
  {
   "cell_type": "code",
   "execution_count": 2,
   "id": "4d667c0f-4e1a-4136-aa6d-26e5492fde4b",
   "metadata": {},
   "outputs": [],
   "source": [
    "import numpy as np"
   ]
  },
  {
   "cell_type": "code",
   "execution_count": 3,
   "id": "234831c4-064e-41c3-9963-351c29a2bdeb",
   "metadata": {},
   "outputs": [],
   "source": [
    "from langchain.document_loaders import PyPDFLoader\n",
    "loader = PyPDFLoader(\"C:\\\\Users\\\\Mahir Dursunoglu\\\\Desktop\\\\Langchain\\\\the-fellowship-of-the-ring.pdf\")\n",
    "pages = loader.load()"
   ]
  },
  {
   "cell_type": "code",
   "execution_count": 4,
   "id": "06c12c5d-628f-4c8c-9e94-0fedd47e3124",
   "metadata": {},
   "outputs": [],
   "source": [
    "from dotenv import load_dotenv, find_dotenv\n",
    "_ = load_dotenv(find_dotenv()) # read local .env file"
   ]
  },
  {
   "cell_type": "code",
   "execution_count": 5,
   "id": "aa69b152-8b74-4ac4-b09b-3be38d479d47",
   "metadata": {},
   "outputs": [
    {
     "data": {
      "text/plain": [
       "571"
      ]
     },
     "execution_count": 5,
     "metadata": {},
     "output_type": "execute_result"
    }
   ],
   "source": [
    "len(pages)"
   ]
  },
  {
   "cell_type": "code",
   "execution_count": 6,
   "id": "be10a7cb-f89e-469d-a7a7-abb9fe191499",
   "metadata": {},
   "outputs": [],
   "source": [
    "page = pages[501]"
   ]
  },
  {
   "cell_type": "code",
   "execution_count": 7,
   "id": "450b5680-aca4-4b38-99bc-9601044f9a41",
   "metadata": {},
   "outputs": [
    {
     "name": "stdout",
     "output_type": "stream",
     "text": [
      "the mirror of galadriel 473\n",
      "I am not a counsellor. You may learn something, and whether\n",
      "what you see be fair or evil, that may be proﬁtable, and yet\n",
      "it may not. Seeing is both good and perilous. Yet I think,Frodo, that you have courage and wisdom enough for theventure, or I would not have brought you here. Do as youwill!’\n",
      "‘I will look,’ said Frodo, and he climbed on the pedestal\n",
      "and bent over the dark water. At once the Mirror cleared and\n",
      "he saw a twilit land. Mountains loomed dark in the distanceagainst a pale sky. A long grey road wound back out of sight.Far away a ﬁgure came slowly down the road, faint andsmall at ﬁrst, but growing larger and clearer as it approached.Suddenly Frodo realized that it reminded him of Gandalf.He almost called aloud the wizard’s name, and then he saw\n",
      "that the ﬁgure was clothed not in grey but in white, in a whitethat shone faintly in the dusk; and in its hand there was awhite staff. The head was so bowed that he could see no face,and presently the ﬁgure turned aside round a bend in theroad and went out of the Mirror’s view. Doubt came intoFrodo’s mind: was this a vision of Gandalf on one of hismany lonely journeys long ago, or was it Saruman?\n",
      "The vision now changed. Brief and small but very vivid he\n",
      "caught a glimpse of Bilbo walking restlessly about his room.The table was littered with disordered papers; rain was beat-ing on the windows.\n",
      "Then there was a pause, and after it many swift scenes\n",
      "followed that Frodo in some way knew to be parts of a greathistory in which he had become involved. The mist clearedand he saw a sight which he had never seen before but knewat once: the Sea. Darkness fell. The sea rose and raged in agreat storm. Then he saw against the Sun, sinking blood-redinto a wrack of clouds, the black outline of a tall ship withtorn sails riding up out of the West. Then a wide river ﬂowingthrough a populous city. Then a white fortress with seventowers. And then again a ship with black sails, but now it wasmorning again, and the water rippled with light, and a bannerbearing the emblem of a white tree shone in the sun. A smoke\n"
     ]
    }
   ],
   "source": [
    "print(page.page_content[0:2500])"
   ]
  },
  {
   "cell_type": "code",
   "execution_count": 8,
   "id": "80d0d6fb-1b3b-4d70-8f8f-8f77488b02bf",
   "metadata": {},
   "outputs": [
    {
     "data": {
      "text/plain": [
       "{'source': 'C:\\\\Users\\\\Mahir Dursunoglu\\\\Desktop\\\\Langchain\\\\the-fellowship-of-the-ring.pdf',\n",
       " 'page': 501}"
      ]
     },
     "execution_count": 8,
     "metadata": {},
     "output_type": "execute_result"
    }
   ],
   "source": [
    "page.metadata"
   ]
  },
  {
   "cell_type": "markdown",
   "id": "3f60c4ce-b0a5-40e5-b153-d2ae7845172e",
   "metadata": {},
   "source": [
    "## Document Splitting"
   ]
  },
  {
   "cell_type": "code",
   "execution_count": 9,
   "id": "eb5b6079-8dae-4656-a156-2e8d88296e64",
   "metadata": {},
   "outputs": [],
   "source": [
    "from langchain.text_splitter import RecursiveCharacterTextSplitter, CharacterTextSplitter"
   ]
  },
  {
   "cell_type": "code",
   "execution_count": 26,
   "id": "ad2316b7-5470-4e01-b1a6-ee47963de477",
   "metadata": {},
   "outputs": [],
   "source": [
    "text_splitter = RecursiveCharacterTextSplitter(\n",
    "    chunk_size=1000,\n",
    "    chunk_overlap=50, \n",
    "    length_function = len,\n",
    "    separators=[\"\\n\\n\", \"\\n\",\"(?<=\\.\" \" \", \"\"]\n",
    ")"
   ]
  },
  {
   "cell_type": "code",
   "execution_count": 27,
   "id": "d7284041-9581-4f3c-8e96-57421dab443f",
   "metadata": {},
   "outputs": [],
   "source": [
    "splits =  text_splitter.split_documents(pages) "
   ]
  },
  {
   "cell_type": "code",
   "execution_count": 28,
   "id": "2b6e62f2-7f6c-4ce7-be75-2158b27c1e5d",
   "metadata": {},
   "outputs": [
    {
     "data": {
      "text/plain": [
       "1466"
      ]
     },
     "execution_count": 28,
     "metadata": {},
     "output_type": "execute_result"
    }
   ],
   "source": [
    "len(splits)"
   ]
  },
  {
   "cell_type": "markdown",
   "id": "408489d5-d174-42ee-b9c4-c6e7e1e2866b",
   "metadata": {},
   "source": [
    "## Embeddings"
   ]
  },
  {
   "cell_type": "code",
   "execution_count": 31,
   "id": "da1281b9-3b63-4018-896d-bd4448f0cc21",
   "metadata": {},
   "outputs": [],
   "source": [
    "from transformers.utils import logging\n",
    "logging.set_verbosity_error()\n",
    "\n",
    "from sentence_transformers import SentenceTransformer\n",
    "\n",
    "model = SentenceTransformer(\"all-MiniLM-L6-v2\")"
   ]
  },
  {
   "cell_type": "markdown",
   "id": "c01071e3-082c-43d9-b35c-8e23f08b8681",
   "metadata": {},
   "source": [
    "## Vectorstore"
   ]
  },
  {
   "cell_type": "code",
   "execution_count": 34,
   "id": "bcb9a7f8-d1b7-441f-b728-4daf50d8deb2",
   "metadata": {},
   "outputs": [],
   "source": [
    "#! pip install chromadb"
   ]
  },
  {
   "cell_type": "code",
   "execution_count": 35,
   "id": "9f05bb17-1069-447b-973c-8a44346b8ebc",
   "metadata": {},
   "outputs": [
    {
     "data": {
      "text/plain": [
       "1466"
      ]
     },
     "execution_count": 35,
     "metadata": {},
     "output_type": "execute_result"
    }
   ],
   "source": [
    "len(splits)"
   ]
  },
  {
   "cell_type": "code",
   "execution_count": 36,
   "id": "9917622c-75e0-430d-b125-6262c1ef5e78",
   "metadata": {},
   "outputs": [],
   "source": [
    "import chromadb\n",
    "from chromadb.utils import embedding_functions\n",
    "\n",
    "CHROMA_DATA_PATH = \"C:\\\\Users\\\\Mahir Dursunoglu\\\\Desktop\\\\Langchain\\\\Vectorstore\"\n",
    "EMBED_MODEL = \"all-MiniLM-L6-v2\"\n",
    "COLLECTION_NAME = \"demo_docs8\"\n",
    "\n",
    "embedding_func = embedding_functions.SentenceTransformerEmbeddingFunction(model_name=EMBED_MODEL)\n",
    "\n",
    "client = chromadb.PersistentClient(path=CHROMA_DATA_PATH)\n",
    "\n",
    "collection = client.create_collection(\n",
    "    name=COLLECTION_NAME,\n",
    "    embedding_function=embedding_func,\n",
    "    metadata={\"hnsw:space\": \"cosine\"},\n",
    ")\n",
    "\n",
    "documents = [splits[i].page_content for i in range(len(splits))]\n",
    "\n",
    "collection.add(\n",
    "    documents=documents,\n",
    "    ids=[f\"id{i}\" for i in range(len(documents))]\n",
    ")"
   ]
  },
  {
   "cell_type": "code",
   "execution_count": 37,
   "id": "e5f7ddac-a7b5-42cb-b709-3257d16592b7",
   "metadata": {},
   "outputs": [
    {
     "data": {
      "text/plain": [
       "1466"
      ]
     },
     "execution_count": 37,
     "metadata": {},
     "output_type": "execute_result"
    }
   ],
   "source": [
    "collection.count()"
   ]
  },
  {
   "cell_type": "markdown",
   "id": "a1db3ba7-e131-4b09-a40d-810925b91d00",
   "metadata": {},
   "source": [
    "## Question Answering"
   ]
  },
  {
   "cell_type": "code",
   "execution_count": 54,
   "id": "6111327c-ced0-4f04-b055-35a90907b0b4",
   "metadata": {},
   "outputs": [],
   "source": [
    "context = \"\"\"\n",
    "I want you to answer questions related to book series named \"Lord of the rings\". Use the following \n",
    "passages from the first book of the serie to answer questions: {}\n",
    "\"\"\"\n",
    "\n",
    "question = \"\"\"\n",
    "Where Hobbits live ? Where can I find them ?\n",
    "\"\"\"\n",
    "\n",
    "related_passages = collection.query(\n",
    "     query_texts=[question],\n",
    "     n_results=5,\n",
    ")\n",
    "\n",
    "related_result = related_passages[\"documents\"][0][:]\n",
    "sections_str = \",\".join(related_result)"
   ]
  },
  {
   "cell_type": "code",
   "execution_count": 55,
   "id": "aaf2ceaa-fa40-4d84-8544-a8c6c7cf27ae",
   "metadata": {},
   "outputs": [
    {
     "name": "stdout",
     "output_type": "stream",
     "text": [
      "past, and the shape of all lands has been changed; but theregions in which Hobbits then lived were doubtless the sameas those in which they still linger: the North-West of the OldWorld, east of the Sea. Of their original home the Hobbitsin Bilbo’s time preserved no knowledge. A love of learning(other than genealogical lore) was far from general amongthem, but there remained still a few in the older families whostudied their own books, and even gathered reports of oldtimes and distant lands from Elves, Dwarves, and Men. Their\n",
      "own records began only after the settlement of the Shire, and,‘Happy folk are Hobbits to dwell near the shores of the,and inhabited by large families. (Bilbo and Frodo Bagginswere as bachelors very exceptional, as they were also in manyother ways, such as their friendship with the Elves.) Some-times, as in the case of the Tooks of Great Smials, or theBrandybucks of Brandy Hall, many generations of relativeslived in (comparative) peace together in one ancestral andmany-tunnelled mansion. All Hobbits were, in any case,,PROLOGUE\n",
      "1\n",
      "Concerning Hobbits\n",
      "This book is largely concerned with Hobbits, and from its\n",
      "pages a reader may discover much of their character and alittle of their history. Further information will also be foundin the selection from the Red Book of Westmarch that has\n",
      "already been published, under the title of The Hobbit . That\n",
      "story was derived from the earlier chapters of the Red Book,composed by Bilbo himself, the ﬁrst Hobbit to becomefamous in the world at large, and called by him There and\n",
      "Back Again , since they told of his journey into the East and\n",
      "his return: an adventure which later involved all the Hobbitsin the great events of that Age that are here related.\n",
      "Many, however, may wish to know more about this re-\n",
      "markable people from the outset, while some may not possess\n",
      "the earlier book. For such readers a few notes on the moreimportant points are here collected from Hobbit-lore, andthe ﬁrst adventure is brieﬂy recalled.\n",
      "Hobbits are an unobtrusive but very ancient people, more,‘It is true all the same,’ replied Gandalf. ‘About their\n",
      "origins, at any rate, I know more than hobbits do themselves.And even Bilbo’s story suggests the kinship. There was agreat deal in the background of their minds and memories\n"
     ]
    }
   ],
   "source": [
    "print(sections_str)"
   ]
  },
  {
   "cell_type": "code",
   "execution_count": 56,
   "id": "ea18f6ef-99ff-4449-a7a2-8e6536eebba9",
   "metadata": {},
   "outputs": [
    {
     "name": "stdout",
     "output_type": "stream",
     "text": [
      "\n",
      "Hobbits are an ancient people, more 'a bit below the dwarves and a bit above gnomes' according to Gandalf. They primarily inhabit the North-West of the Old World, east of the Sea. Their original home is unknown, but they still linger in those regions. In the book, it is mentioned that some Hobbits lived in the Shire, which was preserved as a separate region by the Elves. The Shire is described as being 'a land of green fields and tall trees, where the grass is short and the flowers are bright, and there are no lanterns or streetlights.' It can be inferred that Hobbits live in such regions with peaceful surroundings, away from the hustle and bustle of urban life.\n"
     ]
    }
   ],
   "source": [
    "from openai import OpenAI\n",
    "\n",
    "client = OpenAI(base_url=\"http://localhost:1234/v1\", api_key=\"lm-studio\")\n",
    "\n",
    "completion = client.chat.completions.create(\n",
    "  model=\"PsiPi/liuhaotian_llava-v1.5-13b-GGUF\",\n",
    "  messages=[\n",
    "     {\"role\": \"system\", \"content\": context.format(sections_str)},\n",
    "     {\"role\": \"user\", \"content\": question},\n",
    "  ],\n",
    "  temperature=0.3,\n",
    ")\n",
    "\n",
    "print(completion.choices[0].message.content)"
   ]
  },
  {
   "cell_type": "code",
   "execution_count": null,
   "id": "2c22dcfe-63b6-4f1e-aeba-94915682dea1",
   "metadata": {},
   "outputs": [],
   "source": []
  }
 ],
 "metadata": {
  "kernelspec": {
   "display_name": "Python 3 (ipykernel)",
   "language": "python",
   "name": "python3"
  },
  "language_info": {
   "codemirror_mode": {
    "name": "ipython",
    "version": 3
   },
   "file_extension": ".py",
   "mimetype": "text/x-python",
   "name": "python",
   "nbconvert_exporter": "python",
   "pygments_lexer": "ipython3",
   "version": "3.11.7"
  }
 },
 "nbformat": 4,
 "nbformat_minor": 5
}
